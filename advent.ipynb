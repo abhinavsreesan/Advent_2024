{
 "cells": [
  {
   "metadata": {},
   "cell_type": "markdown",
   "source": "# Advent of Code 2024",
   "id": "6d5251805b175f8e"
  },
  {
   "metadata": {},
   "cell_type": "markdown",
   "source": [
    "### --- Day 3: Mull It Over ---\n",
    "\n",
    "\"Our computers are having issues, so I have no idea if we have any Chief Historians in stock! You're welcome to check the warehouse, though,\" says the mildly flustered shopkeeper at the North Pole Toboggan Rental Shop. The Historians head out to take a look.\n",
    "\n",
    "The shopkeeper turns to you. \"Any chance you can see why our computers are having issues again?\"\n",
    "\n",
    "The computer appears to be trying to run a program, but its memory (your puzzle input) is corrupted. All of the instructions have been jumbled up!\n",
    "\n",
    "It seems like the goal of the program is just to multiply some numbers. It does that with instructions like mul(X,Y), where X and Y are each 1-3 digit numbers. For instance, mul(44,46) multiplies 44 by 46 to get a result of 2024. Similarly, mul(123,4) would multiply 123 by 4.\n",
    "\n",
    "However, because the program's memory has been corrupted, there are also many invalid characters that should be ignored, even if they look like part of a mul instruction. Sequences like `mul(4*, mul(6,9!, ?(12,34), or mul ( 2 , 4 )` do nothing.\n",
    "\n",
    "For example, consider the following section of corrupted memory:\n",
    "\n",
    "`xmul(2,4)%&mul[3,7]!@^do_not_mul(5,5)+mul(32,64]then(mul(11,8)mul(8,5))`\n",
    "Only the four highlighted sections are real mul instructions. Adding up the result of each instruction produces 161 (2*4 + 5*5 + 11*8 + 8*5).\n",
    "\n",
    "Scan the corrupted memory for uncorrupted mul instructions. What do you get if you add up all of the results of the multiplications?"
   ],
   "id": "2de9a957fcee2615"
  },
  {
   "metadata": {
    "ExecuteTime": {
     "end_time": "2024-12-09T18:17:36.731731Z",
     "start_time": "2024-12-09T18:17:36.726229Z"
    }
   },
   "cell_type": "code",
   "source": [
    "import re\n",
    "\n",
    "sum = 0\n",
    "\n",
    "# Define the pattern to match the mul instructions\n",
    "pattern = re.compile(r'mul\\((\\d+),(\\d+)\\)')\n",
    "\n",
    "# Parse the input file\n",
    "with open('input/day_3.txt') as f:\n",
    "    lines = f.readlines()\n",
    "\n",
    "for line in lines:\n",
    "\n",
    "    matches = pattern.findall(line)\n",
    "\n",
    "    extracted_parts = [(int(x), int(y)) for x, y in matches]\n",
    "\n",
    "    # print(extracted_parts)\n",
    "\n",
    "    for part in extracted_parts:\n",
    "        sum += part[0] * part[1]\n",
    "\n",
    "print('Sum:', sum)\n"
   ],
   "id": "b4bc1dc301ef5eba",
   "outputs": [
    {
     "name": "stdout",
     "output_type": "stream",
     "text": [
      "Sum: 170778545\n"
     ]
    }
   ],
   "execution_count": 12
  },
  {
   "metadata": {},
   "cell_type": "markdown",
   "source": [
    "### --- Part Two ---\n",
    "\n",
    "As you scan through the corrupted memory, you notice that some of the conditional statements are also still intact. If you handle some of the uncorrupted conditional statements in the program, you might be able to get an even more accurate result.\n",
    "\n",
    "There are two new instructions you'll need to handle:\n",
    "\n",
    "- The do() instruction enables future mul instructions.\n",
    "- The don't() instruction disables future mul instructions.\n",
    "Only the most recent do() or don't() instruction applies. At the beginning of the program, mul instructions are enabled.\n",
    "\n",
    "For example:\n",
    "\n",
    "`xmul(2,4)&mul[3,7]!^don't()_mul(5,5)+mul(32,64](mul(11,8)undo()?mul(8,5))`\n",
    "\n",
    "This corrupted memory is similar to the example from before, but this time the mul(5,5) and mul(11,8) instructions are disabled because there is a don't() instruction before them. The other mul instructions function normally, including the one at the end that gets re-enabled by a do() instruction.\n",
    "\n",
    "This time, the sum of the results is 48 (2*4 + 8*5).\n",
    "\n",
    "Handle the new instructions; what do you get if you add up all of the results of just the enabled multiplications?"
   ],
   "id": "e1142998e830ed5a"
  },
  {
   "metadata": {
    "ExecuteTime": {
     "end_time": "2024-12-09T18:31:16.245053Z",
     "start_time": "2024-12-09T18:31:16.238947Z"
    }
   },
   "cell_type": "code",
   "source": [
    "import re\n",
    "\n",
    "sum = 0\n",
    "enabled = True\n",
    "\n",
    "\n",
    "# Define the pattern to match the mul instructions\n",
    "pattern = re.compile(r'(do\\(\\)|don\\'t\\(\\)|mul\\((\\d+),(\\d+)\\))')\n",
    "\n",
    "# Parse the input file\n",
    "with open('input/day_3.txt') as f:\n",
    "    lines = f.readlines()\n",
    "\n",
    "for line in lines:\n",
    "    # print(line)\n",
    "\n",
    "    # Find all matches in the input string\n",
    "    matches = pattern.findall(line)\n",
    "    # print(matches)\n",
    "\n",
    "    for match in matches:\n",
    "        if match[0] == \"do()\":\n",
    "            enabled = True\n",
    "        elif match[0] == \"don't()\":\n",
    "            enabled = False\n",
    "        elif \"mul\" in match[0] and enabled:\n",
    "            sum += int(match[1]) * int(match[2])\n",
    "\n",
    "print('Sum:', sum)"
   ],
   "id": "97206809a9aa00c0",
   "outputs": [
    {
     "name": "stdout",
     "output_type": "stream",
     "text": [
      "Sum: 82868252\n"
     ]
    }
   ],
   "execution_count": 21
  },
  {
   "metadata": {},
   "cell_type": "markdown",
   "source": [
    "### --- Day 2: Red-Nosed Reports ---\n",
    "Fortunately, the first location The Historians want to search isn't a long walk from the Chief Historian's office.\n",
    "\n",
    "While the Red-Nosed Reindeer nuclear fusion/fission plant appears to contain no sign of the Chief Historian, the engineers there run up to you as soon as they see you. Apparently, they still talk about the time Rudolph was saved through molecular synthesis from a single electron.\n",
    "\n",
    "They're quick to add that - since you're already here - they'd really appreciate your help analyzing some unusual data from the Red-Nosed reactor. You turn to check if The Historians are waiting for you, but they seem to have already divided into groups that are currently searching every corner of the facility. You offer to help with the unusual data.\n",
    "\n",
    "The unusual data (your puzzle input) consists of many reports, one report per line. Each report is a list of numbers called levels that are separated by spaces. For example:\n",
    "\n",
    "```python\n",
    "7 6 4 2 1\n",
    "1 2 7 8 9\n",
    "9 7 6 2 1\n",
    "1 3 2 4 5\n",
    "8 6 4 4 1\n",
    "1 3 6 7 9\n",
    "```\n",
    "\n",
    "\n",
    "This example data contains six reports each containing five levels.\n",
    "\n",
    "The engineers are trying to figure out which reports are safe. The Red-Nosed reactor safety systems can only tolerate levels that are either gradually increasing or gradually decreasing. So, a report only counts as safe if both of the following are true:\n",
    "\n",
    "- The levels are either all increasing or all decreasing.\n",
    "- Any two adjacent levels differ by at least one and at most three.\n",
    "\n",
    "In the example above, the reports can be found safe or unsafe by checking those rules:\n",
    "\n",
    "- 7 6 4 2 1: Safe because the levels are all decreasing by 1 or 2.\n",
    "- 1 2 7 8 9: Unsafe because 2 7 is an increase of 5.\n",
    "- 9 7 6 2 1: Unsafe because 6 2 is a decrease of 4.\n",
    "- 1 3 2 4 5: Unsafe because 1 3 is increasing but 3 2 is decreasing.\n",
    "- 8 6 4 4 1: Unsafe because 4 4 is neither an increase or a decrease.\n",
    "- 1 3 6 7 9: Safe because the levels are all increasing by 1, 2, or 3.\n",
    "\n",
    "So, in this example, 2 reports are safe.\n",
    "\n",
    "Analyze the unusual data from the engineers. How many reports are safe?"
   ],
   "id": "ebfa31d9012e0e39"
  },
  {
   "metadata": {
    "ExecuteTime": {
     "end_time": "2024-12-08T08:01:23.847779Z",
     "start_time": "2024-12-08T08:01:23.838562Z"
    }
   },
   "cell_type": "code",
   "source": [
    "safe_count=0\n",
    "unsafe_count=0\n",
    "\n",
    "# Parse the input file\n",
    "with open('input/day_2.txt') as f:\n",
    "    lines = f.readlines()\n",
    "levels = [list(map(int, line.split())) for line in lines]\n",
    "#print(levels)\n",
    "\n",
    "# Check each report\n",
    "for report in levels:\n",
    "    #print('Report:', report)\n",
    "    safe_flag = True\n",
    "    score = int()\n",
    "    increasing = None\n",
    "\n",
    "    # Check each level in the report with the previous level\n",
    "    for previousLevel, currentLevel in zip(report, report[1:]):\n",
    "        # print('Previous:', previousLevel, 'Current:', currentLevel)\n",
    "\n",
    "        score = currentLevel - previousLevel\n",
    "\n",
    "        if score < -3 or score > 3 or score == 0:\n",
    "            safe_flag=False\n",
    "        if increasing and score < 0:\n",
    "            safe_flag=False\n",
    "        if increasing == False and score > 0:\n",
    "            safe_flag=False\n",
    "\n",
    "        if score < 0:\n",
    "            increasing = False\n",
    "        else:\n",
    "            increasing = True\n",
    "\n",
    "    if safe_flag:\n",
    "        safe_count += 1\n",
    "    else:\n",
    "        unsafe_count += 1\n",
    "\n",
    "print('Safe:', safe_count, 'Unsafe:', unsafe_count)"
   ],
   "id": "9c7d56b690f6206b",
   "outputs": [
    {
     "name": "stdout",
     "output_type": "stream",
     "text": [
      "Safe: 479 Unsafe: 521\n"
     ]
    }
   ],
   "execution_count": 7
  },
  {
   "metadata": {},
   "cell_type": "markdown",
   "source": [
    "### --- Part Two ---\n",
    "\n",
    "The engineers are surprised by the low number of safe reports until they realize they forgot to tell you about the Problem Dampener.\n",
    "\n",
    "The Problem Dampener is a reactor-mounted module that lets the reactor safety systems tolerate a single bad level in what would otherwise be a safe report. It's like the bad level never happened!\n",
    "\n",
    "Now, the same rules apply as before, except if removing a single level from an unsafe report would make it safe, the report instead counts as safe.\n",
    "\n",
    "More of the above example's reports are now safe:\n",
    "\n",
    "- 7 6 4 2 1: Safe without removing any level.\n",
    "- 1 2 7 8 9: Unsafe regardless of which level is removed.\n",
    "- 9 7 6 2 1: Unsafe regardless of which level is removed.\n",
    "- 1 3 2 4 5: Safe by removing the second level, 3.\n",
    "- 8 6 4 4 1: Safe by removing the third level, 4.\n",
    "- 1 3 6 7 9: Safe without removing any level.\n",
    "\n",
    "Thanks to the Problem Dampener, 4 reports are actually safe!\n",
    "\n",
    "Update your analysis by handling situations where the Problem Dampener can remove a single level from unsafe reports. How many reports are now safe?"
   ],
   "id": "bdb500ed442ca0b"
  },
  {
   "metadata": {
    "ExecuteTime": {
     "end_time": "2024-12-08T08:18:36.486372Z",
     "start_time": "2024-12-08T08:18:36.476789Z"
    }
   },
   "cell_type": "code",
   "source": [
    "safe_count=0\n",
    "unsafe_count=0\n",
    "\n",
    "def checkSafe(report):\n",
    "\n",
    "    increasing = None\n",
    "\n",
    "    # Check each level in the report with the previous level\n",
    "    for previousLevel, currentLevel in zip(report, report[1:]):\n",
    "        # print('Previous:', previousLevel, 'Current:', currentLevel)\n",
    "\n",
    "        score = currentLevel - previousLevel\n",
    "\n",
    "        if score < -3 or score > 3 or score == 0:\n",
    "            return False\n",
    "        if increasing and score < 0:\n",
    "             return False\n",
    "        if increasing == False and score > 0:\n",
    "             return False\n",
    "\n",
    "        if score < 0:\n",
    "            increasing = False\n",
    "        else:\n",
    "            increasing = True\n",
    "\n",
    "    return True\n",
    "\n",
    "# Parse the input file\n",
    "with open('input/day_2.txt') as f:\n",
    "    lines = f.readlines()\n",
    "levels = [list(map(int, line.split())) for line in lines]\n",
    "#print(levels)\n",
    "\n",
    "for report in levels:\n",
    "    if checkSafe(report):\n",
    "        safe_count += 1\n",
    "    else: # Part 2\n",
    "        for i, level in enumerate(report):\n",
    "            reportCopy = report.copy()\n",
    "            reportCopy.pop(i)\n",
    "            if checkSafe(reportCopy):\n",
    "                safe_count += 1\n",
    "                break\n",
    "\n",
    "print(safe_count)"
   ],
   "id": "ec6ec9023d232caa",
   "outputs": [
    {
     "name": "stdout",
     "output_type": "stream",
     "text": [
      "531\n"
     ]
    }
   ],
   "execution_count": 11
  },
  {
   "metadata": {},
   "cell_type": "markdown",
   "source": [
    "### --- Day 1: Historian Hysteria ---\n",
    "\n",
    "Upon pouring into the office, everyone confirms that the Chief Historian is indeed nowhere to be found. Instead, the Elves discover an assortment of notes and lists of historically significant locations! This seems to be the planning the Chief Historian was doing before he left. Perhaps these notes can be used to determine which locations to search?\n",
    "\n",
    "Throughout the Chief's office, the historically significant locations are listed not by name but by a unique number called the location ID. To make sure they don't miss anything, The Historians split into two groups, each searching the office and trying to create their own complete list of location IDs.\n",
    "\n",
    "There's just one problem: by holding the two lists up side by side (your puzzle input), it quickly becomes clear that the lists aren't very similar. Maybe you can help The Historians reconcile their lists?\n",
    "\n",
    "For example:\n",
    "\n",
    "```python\n",
    "3   4\n",
    "4   3\n",
    "2   5\n",
    "1   3\n",
    "3   9\n",
    "3   3\n",
    "```\n",
    "Maybe the lists are only off by a small amount! To find out, pair up the numbers and measure how far apart they are. Pair up the smallest number in the left list with the smallest number in the right list, then the second-smallest left number with the second-smallest right number, and so on.\n",
    "\n",
    "Within each pair, figure out how far apart the two numbers are; you'll need to add up all of those distances. For example, if you pair up a 3 from the left list with a 7 from the right list, the distance apart is 4; if you pair up a 9 with a 3, the distance apart is 6.\n",
    "\n",
    "In the example list above, the pairs and distances would be as follows:\n",
    "\n",
    "- The smallest number in the left list is 1, and the smallest number in the right list is 3. The distance between them is 2.\n",
    "- The second-smallest number in the left list is 2, and the second-smallest number in the right list is another 3. The distance between them is 1.\n",
    "- The third-smallest number in both lists is 3, so the distance between them is 0.\n",
    "- The next numbers to pair up are 3 and 4, a distance of 1.\n",
    "- The fifth-smallest numbers in each list are 3 and 5, a distance of 2.\n",
    "- Finally, the largest number in the left list is 4, while the largest number in the right list is 9; these are a distance 5 apart.\n",
    "\n",
    "To find the total distance between the left list and the right list, add up the distances between all of the pairs you found. In the example above, this is 2 + 1 + 0 + 1 + 2 + 5, a total distance of 11!\n",
    "\n",
    "Your actual left and right lists contain many location IDs. What is the total distance between your lists?"
   ],
   "id": "9db7711e2dd00c21"
  },
  {
   "cell_type": "code",
   "id": "initial_id",
   "metadata": {
    "collapsed": true,
    "ExecuteTime": {
     "end_time": "2024-12-08T07:56:11.885202Z",
     "start_time": "2024-12-08T07:56:11.868246Z"
    }
   },
   "source": [
    "list1 = []\n",
    "list2 = []\n",
    "total_sum = 0\n",
    "with open('input/day_1.txt') as f:\n",
    "    lines = f.readlines()\n",
    "    for line in lines:\n",
    "        values = line.split()\n",
    "        list1.append(int(values[0]))\n",
    "        list2.append(int(values[1]))\n",
    "    list1.sort()\n",
    "    list2.sort()\n",
    "    total_sum = sum(abs(a - b) for a, b in zip(list1, list2))\n",
    "print(total_sum)"
   ],
   "outputs": [
    {
     "name": "stdout",
     "output_type": "stream",
     "text": [
      "2176849\n"
     ]
    }
   ],
   "execution_count": 1
  },
  {
   "metadata": {},
   "cell_type": "markdown",
   "source": [
    "### --- Part Two ---\n",
    "\n",
    "\n",
    "Your analysis only confirmed what everyone feared: the two lists of location IDs are indeed very different.\n",
    "\n",
    "Or are they?\n",
    "\n",
    "The Historians can't agree on which group made the mistakes or how to read most of the Chief's handwriting, but in the commotion you notice an interesting detail: a lot of location IDs appear in both lists! Maybe the other numbers aren't location IDs at all but rather misinterpreted handwriting.\n",
    "\n",
    "This time, you'll need to figure out exactly how often each number from the left list appears in the right list. Calculate a total similarity score by adding up each number in the left list after multiplying it by the number of times that number appears in the right list.\n",
    "\n",
    "Here are the same example lists again:\n",
    "\n",
    "```python\n",
    "3   4\n",
    "4   3\n",
    "2   5\n",
    "1   3\n",
    "3   9\n",
    "3   3\n",
    "```\n",
    "For these example lists, here is the process of finding the similarity score:\n",
    "\n",
    "- The first number in the left list is 3. It appears in the right list three times, so the similarity score increases by 3 * 3 = 9.\n",
    "- The second number in the left list is 4. It appears in the right list once, so the similarity score increases by 4 * 1 = 4.\n",
    "- The third number in the left list is 2. It does not appear in the right list, so the similarity score does not increase (2 * 0 = 0).\n",
    "- The fourth number, 1, also does not appear in the right list.\n",
    "- The fifth number, 3, appears in the right list three times; the similarity score increases by 9.\n",
    "- The last number, 3, appears in the right list three times; the similarity score again increases by 9.\n",
    "\n",
    "So, for these example lists, the similarity score at the end of this process is 31 (9 + 4 + 0 + 0 + 9 + 9).\n",
    "\n",
    "Once again consider your left and right lists. What is their similarity score?"
   ],
   "id": "5cd97bd5fed778d6"
  },
  {
   "metadata": {
    "ExecuteTime": {
     "end_time": "2024-12-08T07:58:46.294354Z",
     "start_time": "2024-12-08T07:58:46.288295Z"
    }
   },
   "cell_type": "code",
   "source": [
    "from collections import Counter\n",
    "\n",
    "list1 = []\n",
    "list2 = []\n",
    "total_sum = 0\n",
    "with open('input/day_1.txt') as f:\n",
    "    lines = f.readlines()\n",
    "    for line in lines:\n",
    "        values = line.split()\n",
    "        list1.append(int(values[0]))\n",
    "        list2.append(int(values[1]))\n",
    "    lc  = Counter(list2)\n",
    "    for l in list1:\n",
    "        total_sum += l * lc[l]\n",
    "print(total_sum)"
   ],
   "id": "6c3bc0547e4a1b37",
   "outputs": [
    {
     "name": "stdout",
     "output_type": "stream",
     "text": [
      "23384288\n"
     ]
    }
   ],
   "execution_count": 3
  },
  {
   "metadata": {},
   "cell_type": "code",
   "outputs": [],
   "execution_count": null,
   "source": "",
   "id": "7181bff66cd39e6"
  }
 ],
 "metadata": {
  "kernelspec": {
   "display_name": "Python 3",
   "language": "python",
   "name": "python3"
  },
  "language_info": {
   "codemirror_mode": {
    "name": "ipython",
    "version": 2
   },
   "file_extension": ".py",
   "mimetype": "text/x-python",
   "name": "python",
   "nbconvert_exporter": "python",
   "pygments_lexer": "ipython2",
   "version": "2.7.6"
  }
 },
 "nbformat": 4,
 "nbformat_minor": 5
}
